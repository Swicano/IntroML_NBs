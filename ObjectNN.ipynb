{
  "nbformat": 4,
  "nbformat_minor": 0,
  "metadata": {
    "colab": {
      "name": "ObjectNN.ipynb",
      "version": "0.3.2",
      "provenance": [],
      "collapsed_sections": [],
      "include_colab_link": true
    },
    "kernelspec": {
      "name": "python3",
      "display_name": "Python 3"
    }
  },
  "cells": [
    {
      "cell_type": "markdown",
      "metadata": {
        "id": "view-in-github",
        "colab_type": "text"
      },
      "source": [
        "<a href=\"https://colab.research.google.com/github/Swicano/IntroML_NBs/blob/master/ObjectNN.ipynb\" target=\"_parent\"><img src=\"https://colab.research.google.com/assets/colab-badge.svg\" alt=\"Open In Colab\"/></a>"
      ]
    },
    {
      "cell_type": "markdown",
      "metadata": {
        "id": "McpwEwSL9mod",
        "colab_type": "text"
      },
      "source": [
        "Implementing my own neural network framework, without using global variables. though perhaps using a class?"
      ]
    },
    {
      "cell_type": "code",
      "metadata": {
        "id": "dKivgxgVvGld",
        "colab_type": "code",
        "colab": {}
      },
      "source": [
        "from numpy import *\n",
        "import time\n",
        "import copy\n",
        "import matplotlib.pyplot as plt # for plotting\n",
        "%matplotlib inline\n"
      ],
      "execution_count": 0,
      "outputs": []
    },
    {
      "cell_type": "code",
      "metadata": {
        "id": "mIoSkY_k9lbi",
        "colab_type": "code",
        "colab": {}
      },
      "source": [
        "from numpy import *\n",
        "\n",
        "class SimpleNN:\n",
        "  \n",
        "  # here we init the class variables and set up the structure, as well \n",
        "  #    the nonlinear and Cost function if ones are passed\n",
        "  #    neur is a list of ints, where each int is the number of neurons in a layer\n",
        "  #    and the position in the list is that layer number\n",
        "  def __init__(self, neur , f=None, C=None ):\n",
        "    self.neurons = neur\n",
        "    self.layers = len(neur)\n",
        "    \n",
        "    # the default nonlinear function is a sigmoid\n",
        "    if f is None:\n",
        "      def f(x):\n",
        "        val=1/(1+exp(-x))\n",
        "        return(val,exp(-x)*(val**2))\n",
        "      self.nonlin = f\n",
        "    else:\n",
        "      self.nonlin = f\n",
        "    \n",
        "    # the default cost function is norm^2\n",
        "    if C is None:\n",
        "      def C(yout,ytarget):\n",
        "        diff = 1/(2*shape(yout)[0])*((yout-ytarget)**2)\n",
        "        ddiff = 1/(shape(yout)[0])*(yout-ytarget)\n",
        "        return(diff,ddiff)\n",
        "      self.fcost = C\n",
        "    else:\n",
        "      self.fcost = C\n",
        "        \n",
        "    self.y_n = []\n",
        "    self.dy_n = []\n",
        "    self.z_n = []\n",
        "    self.biases = []\n",
        "    self.dbiases = []\n",
        "    for i in range(0,self.layers):\n",
        "      b = random.uniform(low=-100,high=+100,size=(1,self.neurons[i]))\n",
        "      db = random.uniform(low=-100,high=+100,size=(1,self.neurons[i]))\n",
        "      self.biases.append(b)\n",
        "      self.dbiases.append(db)\n",
        "      self.y_n.append(zeros(self.neurons[i]))\n",
        "      self.dy_n.append(zeros(self.neurons[i]))\n",
        "      self.z_n.append(zeros(self.neurons[i]))\n",
        "      \n",
        "    self.weights=[]\n",
        "    for i in range(0,self.layers-1):\n",
        "      w = random.uniform(low=-100,high=+100,size=(self.neurons[i],self.neurons[i+1]))\n",
        "      dw = random.uniform(low=-100,high=+100,size=(self.neurons[i],self.neurons[i+1]))\n",
        "      self.weights.append([w,dw])\n",
        "         \n",
        "    #here we try it with biases built into the weights vector (this is semi failed)\n",
        "    self.yb_n = []\n",
        "    self.dyb_n = []\n",
        "    self.zb_n = []\n",
        "    for i in range(0,self.layers):\n",
        "      y  = zeros(self.neurons[i])\n",
        "      dy = zeros(self.neurons[i])\n",
        "      self.yb_n.append(y)\n",
        "      self.dyb_n.append(dy)\n",
        "      self.zb_n.append(zeros(self.neurons[i]))\n",
        "    \n",
        "    self.weightsb=[]\n",
        "    for i in range(0,self.layers-1):\n",
        "      wb = random.uniform(low=-1,high=+1,size=(self.neurons[i]+1,self.neurons[i+1]))\n",
        "      dwb = random.uniform(low=-1,high=+1,size=(self.neurons[i]+1,self.neurons[i+1]))\n",
        "      self.weightsb.append([wb,dwb])\n",
        "    # end init------------------------------------------------------------#\n",
        "  \n",
        "  #if you want the current cost separately\n",
        "  def Cost(self,yout,ytarget):\n",
        "      self.cost = self.fcost(yout,ytarget)[0].sum()\n",
        "      return (self.cost)\n",
        "   \n",
        "  def Apply_net(self,yin):\n",
        "    self.y_n[0] = yin\n",
        "    self.dy_n[0] = yin\n",
        "    for i in range(0,self.layers-1):\n",
        "      self.z_n[i+1] = dot(self.y_n[i],self.weights[i][0])+self.biases[i+1][0]\n",
        "      y,dy = self.nonlin(self.z_n[i+1])\n",
        "      self.y_n[i+1] = y\n",
        "      self.dy_n[i+1] = dy\n",
        "    return (self.y_n[-1]) \n",
        "  \n",
        "  # combined Weights-Biases version of the above\n",
        "  def Apply_net_wb(self,yin):\n",
        "    batchsize = len(yin)\n",
        "    self.yb_n[0] = yin\n",
        "    self.dyb_n[0] = yin\n",
        "    for i in range(0,self.layers-1):\n",
        "      y  = append(self.yb_n[i],ones((batchsize,1)),axis=1)\n",
        "      dy = append(self.dyb_n[i],ones((batchsize,1)),axis=1)\n",
        "      self.yb_n[i] = y\n",
        "      self.dyb_n[i] = dy\n",
        "      \n",
        "      self.zb_n[i+1] = dot(self.yb_n[i],self.weightsb[i][0])\n",
        "      y,dy = self.nonlin(self.zb_n[i+1])\n",
        "      self.yb_n[i+1] = y\n",
        "      self.dyb_n[i+1] = dy\n",
        "    return (self.yb_n[-1])\n",
        "   \n",
        "  def Backprop(self, yin, ytarget): \n",
        "    self.Apply_net(yin)\n",
        "    self.Cost(self.y_n[-1],ytarget)\n",
        "    # delta is an element-wise multiplication of two [batchsize x len(y_out)] vectors\n",
        "    # the first is the value of the derivative of the (cost) function w.r.t. (yout)\n",
        "    # the second is the value of the derivative of (yout) w.r.t. (zout)\n",
        "    delta = self.fcost(self.y_n[-1],ytarget)[1]*self.dy_n[-1]\n",
        "    # dw at the top layer is then the dot product of \n",
        "    #   delta and the derivative of (zout) w.r.t the weights matrix, aka, y^(n-1)\n",
        "    #   but we do this by arranging the dot product over the batch vector to \n",
        "    #     take care of the sum at the same time\n",
        "    dw = dot(transpose(self.y_n[-(2)]), delta)\n",
        "    db = delta.sum(0)\n",
        "    self.weights[-1][1] = dw\n",
        "    self.dbiases[-1] = db\n",
        "    # for all below layers we use this form\n",
        "    for i in range(1,self.layers-1):\n",
        "      delta = dot(delta,transpose(self.weights[-i][0]))*self.dy_n[-(i+1)]\n",
        "      dw = dot(transpose(self.y_n[-(i+2)]), delta)\n",
        "      db = delta.sum(0)\n",
        "      self.weights[-(i+1)][1] = dw\n",
        "      self.dbiases[-(i+1)] = db\n",
        "    return (self.cost)  \n",
        "  \n",
        "  # combined Weights-Biases version of the above\n",
        "  def Backprop_wb(self, yin, ytarget):\n",
        "    self.Apply_net_wb(yin)\n",
        "    self.Cost(self.yb_n[-1],ytarget)\n",
        "    # delta is an element-wise multiplication of two [batchsize x len(y_out)] vectors\n",
        "    # the first is the value of the derivative of the (cost) function w.r.t. (yout)\n",
        "    # the second is the value of the derivative of (yout) w.r.t. (zout)\n",
        "    delta = self.fcost(self.yb_n[-1],ytarget)[1]*self.dyb_n[-1]\n",
        "    # dw at the top layer is then the dot product of \n",
        "    #   delta and the derivative of (zout) w.r.t the weights matrix, aka, y^(n-1)\n",
        "    #   but we do this by arranging the dot product over the batch vector to \n",
        "    #     take care of the sum at the same time\n",
        "    dw = dot(transpose(self.yb_n[-(2)][:,:]), delta)\n",
        "    self.weightsb[-1][1] = dw\n",
        "    # for all below layers we use this form\n",
        "    for i in range(1,self.layers-1):\n",
        "      delta = dot(delta,transpose(self.weightsb[-i][0])[:,:-1])*self.dyb_n[-(i+1)][:,:-1]\n",
        "      dw = dot(transpose(self.yb_n[-(i+2)]), delta)\n",
        "      self.weightsb[-(i+1)][1] = dw\n",
        "    return (self.cost)\n",
        "  \n",
        "  #the gradient step has the added option to have eta vary randomly by the factor 'rand'\n",
        "  def Gradient_step(self,step,rand): \n",
        "    eta = step #*(1+random.uniform(-rand,rand))\n",
        "    for i in range(0,self.layers-1):\n",
        "      self.weights[i][0]-=eta*self.weights[i][1]\n",
        "      self.biases[i]-=eta*self.dbiases[i]\n",
        "  # combined Weights-Biases version of the above\n",
        "  def Gradient_step_wb(self,step,rand):\n",
        "    eta = step*(1+random.uniform(-rand,rand))\n",
        "    for i in range(0,self.layers-1):\n",
        "      self.weightsb[i][0]-=eta*self.weightsb[i][1]\n",
        "      \n",
        "\n",
        "  \n",
        "  \n"
      ],
      "execution_count": 0,
      "outputs": []
    },
    {
      "cell_type": "code",
      "metadata": {
        "id": "OLwawRryHnto",
        "colab_type": "code",
        "colab": {}
      },
      "source": [
        "# this Cell generates a uniform input batch that covers -0.5 to +0.5 in both inputs\n",
        "# and makes the output easily graphed\n",
        "import matplotlib.pyplot as plt # for plotting\n",
        "%matplotlib inline\n",
        "\n",
        "M=200\n",
        "# Generate a 'mesh grid', i.e. x,y values in an image\n",
        "v0,v1=meshgrid(linspace(-0.5,0.5,M),linspace(-0.5,0.5,M))\n",
        "v0flat=v0.flatten() # make 1D array out of 2D array\n",
        "v1flat=v1.flatten() # that means: MxM matrix becomes M^2 vector\n",
        "\n",
        "batchsize=shape(v0flat)[0] # number of samples = number of pixels\n",
        "y_in=zeros([batchsize,2])\n",
        "y_in[:,0]=v0flat # fill first component (index 0)\n",
        "y_in[:,1]=v1flat # fill second component\n"
      ],
      "execution_count": 0,
      "outputs": []
    },
    {
      "cell_type": "code",
      "metadata": {
        "id": "YWGyhVjPYqA0",
        "colab_type": "code",
        "outputId": "d2fe72e8-1f4f-45ac-e606-aa907e27a501",
        "colab": {
          "base_uri": "https://localhost:8080/",
          "height": 500
        }
      },
      "source": [
        "# we can define any nonlinear function other than the default sigmoid\n",
        "#   Simply define it as below, so that it takes one input, and returns\n",
        "#   the output f(x) as well as the derivative f'(x)\n",
        "def ReLU(x):\n",
        "  val = x*(x>0)\n",
        "  return (val, 1*(x>0))\n",
        "\n",
        "# the same goes for Cost functions which takes 2 inputs\n",
        "#   the output vector y_out calculated from y_in, and\n",
        "#      and also the desired output vector y_target\n",
        "#   Output the same as above, where we return C(yin,yout), and dC(yin, yout)/df\n",
        "def Cost(x,y):\n",
        "  return (1,1)\n",
        "\n",
        "# here we define the nn with:\n",
        "#   2 input neurons, 100 neurons in a hidden layer, and 1 ouput\n",
        "#   as well, we use ReLU instead of sigmoid as our nonlinear\n",
        "#   and by not defining a cost function we use the default\n",
        "simples = SimpleNN([2,50,100,50,1])#,f=ReLU)\n",
        "\n",
        "\n",
        "# all weights are initialized randomly, but we run the graphing input from above\n",
        "# and see that we get an output that probably means nothing\n",
        "y_out = simples.Apply_net(y_in)   # we use the normal net to get a yout\n",
        "y_out1 = simples.Apply_net_wb(y_in)\n",
        "y_2D=reshape(y_out[:,0],[M,M])    # reformat yout to graph\n",
        "plt.figure(figsize=[7,7])\n",
        "plt.imshow(y_2D,origin='lower')   # aaand plot it\n",
        "plt.show()"
      ],
      "execution_count": 7,
      "outputs": [
        {
          "output_type": "stream",
          "text": [
            "/usr/local/lib/python3.6/dist-packages/ipykernel_launcher.py:16: RuntimeWarning: overflow encountered in exp\n",
            "  app.launch_new_instance()\n",
            "/usr/local/lib/python3.6/dist-packages/ipykernel_launcher.py:17: RuntimeWarning: overflow encountered in exp\n",
            "/usr/local/lib/python3.6/dist-packages/ipykernel_launcher.py:17: RuntimeWarning: invalid value encountered in multiply\n"
          ],
          "name": "stderr"
        },
        {
          "output_type": "display_data",
          "data": {
            "image/png": "[encoded data removed]",
            "text/plain": [
              "<Figure size 504x504 with 1 Axes>"
            ]
          },
          "metadata": {
            "tags": []
          }
        }
      ]
    },
    {
      "cell_type": "code",
      "metadata": {
        "id": "lJKX9IUZE7nk",
        "colab_type": "code",
        "colab": {}
      },
      "source": [
        "# Here we begin attempting to train that random net above\n",
        "#   by first defining a function which will be our target \n",
        "def myFunc(yin):\n",
        "  r2=(yin**2).sum(1)\n",
        "  return(exp(-5*r2)*abs(yin.sum(1)))\n",
        "\n",
        "def myFunc2(yin):\n",
        "  x = sin(10*yin[:,0])\n",
        "  y = cos(12*yin[:,1])\n",
        "  return((x*y+1)/2)\n",
        "\n",
        "#then we create a training batch by randomly sampling a function\n",
        "# this function was not generalized properly, it only works on 1d outputs\n",
        "def make_batch(batchsize, insize, outsize, func=myFunc):\n",
        "  inputs=random.uniform(low=-0.5,high=+0.5,size=[batchsize,insize])\n",
        "  targets=zeros([batchsize,outsize]) # must have right dimensions\n",
        "  targets[:,0]=func(inputs)\n",
        "  return(inputs,targets)\n",
        "\n",
        "yint,yintest = make_batch(100,2,1)\n"
      ],
      "execution_count": 0,
      "outputs": []
    },
    {
      "cell_type": "code",
      "metadata": {
        "id": "hACBsY1m2Gvr",
        "colab_type": "code",
        "colab": {}
      },
      "source": [
        "import copy\n",
        "backup5 = copy.deepcopy(simples)\n",
        "\n"
      ],
      "execution_count": 0,
      "outputs": []
    },
    {
      "cell_type": "code",
      "metadata": {
        "id": "fEwkojVD4X_h",
        "colab_type": "code",
        "colab": {}
      },
      "source": [
        "# a deepcopy lets us reinitialize the nn to its' untrained state easily, \n",
        "#   even with random weights\n",
        "simples = copy.deepcopy(backup5)\n",
        "costs11 = []          #CHANGE\n",
        "times11 = []          #CHANGE"
      ],
      "execution_count": 0,
      "outputs": []
    },
    {
      "cell_type": "code",
      "metadata": {
        "id": "jd86RZqmLtp1",
        "colab_type": "code",
        "outputId": "40a19dfb-dbad-4e80-b359-397c4edc784c",
        "colab": {
          "base_uri": "https://localhost:8080/",
          "height": 86
        }
      },
      "source": [
        "#here we do the actual training\n",
        "training_size = 500 #number of dC/dw steps\n",
        "training_time = 1000 # train for this many seconds\n",
        "batch_size = 20\n",
        "start = time.time()\n",
        "end = time.time()+training_time\n",
        "\n",
        "#for i in range(training_size):  #if you want to train a set number of iterations\n",
        "while (time.time() < end):       # if you just want to train for a set amount of time\n",
        "  yint, yintest = make_batch(batchsize, 2,1, func=myFunc2)\n",
        "  costs11.append(simples.Backprop(yint, yintest))             # CHANGE\n",
        "  simples.Gradient_step(1.001,0.001)\n",
        "  time_curr = time.time()\n",
        "  times11.append(time_curr-start)                             # CHANGE\n",
        "  start=time_curr\n",
        "  \n",
        "#print(costs1)\n",
        "plt.plot(costs11)                                             # CHANGE\n",
        "#plt.plot(times1)"
      ],
      "execution_count": 0,
      "outputs": [
        {
          "output_type": "stream",
          "text": [
            "/usr/local/lib/python3.6/dist-packages/ipykernel_launcher.py:16: RuntimeWarning: overflow encountered in exp\n",
            "  app.launch_new_instance()\n",
            "/usr/local/lib/python3.6/dist-packages/ipykernel_launcher.py:17: RuntimeWarning: overflow encountered in exp\n",
            "/usr/local/lib/python3.6/dist-packages/ipykernel_launcher.py:17: RuntimeWarning: invalid value encountered in multiply\n"
          ],
          "name": "stderr"
        }
      ]
    },
    {
      "cell_type": "code",
      "metadata": {
        "id": "AOh0S0IU6dI5",
        "colab_type": "code",
        "colab": {}
      },
      "source": [
        "times11tot = []                                   # Change\n",
        "times11tot.append(times11[0])                     # Change CHANGE\n",
        "for i in range(1,len(times11)):                   # Change\n",
        "  times11tot.append(times11tot[-1]+times11[i])    # CHANGE CHANGE CHANGE\n",
        "  \n",
        "print(times11tot[-1])                             # CHANGE"
      ],
      "execution_count": 0,
      "outputs": []
    },
    {
      "cell_type": "code",
      "metadata": {
        "id": "ho7S2VtTHkW4",
        "colab_type": "code",
        "colab": {}
      },
      "source": [
        "plt.plot(times9tot,costs9, 'g')\n",
        "plt.plot(times10tot,costs10)\n",
        "plt.plot(times8tot,costs8, 'r')\n",
        "plt.plot(times7tot,costs7, 'b')     #CHANGE    CHANGE\n",
        "plt.plot(times11tot,costs11)\n",
        "plt.ylabel('Cost')\n",
        "plt.xlabel('Time (s)')\n",
        "plt.yscale('log')\n",
        "plt.xscale('log')\n",
        "plt.axis([0.5, 1200, 0.01, 0.2])\n",
        "plt.gca().legend(('rand(-1,1)','rand(-1,1)','rand(-10,10)','rand(-10,10)','rand(-100,100)'),loc='lower left')\n",
        "plt.show()"
      ],
      "execution_count": 0,
      "outputs": []
    },
    {
      "cell_type": "code",
      "metadata": {
        "id": "k9zHfcjGAtEh",
        "colab_type": "code",
        "outputId": "065c08b0-189f-47f8-8450-4b4759b51458",
        "colab": {
          "base_uri": "https://localhost:8080/",
          "height": 287
        }
      },
      "source": [
        "plt.plot(times3tot,costs3, 'g')\n",
        "plt.plot(times4tot,costs4, 'r')\n",
        "plt.plot(times5tot,costs5, 'b')     #CHANGE    CHANGE\n",
        "plt.ylabel('Cost')\n",
        "plt.xlabel('Time (s)')\n",
        "plt.yscale('log')\n",
        "plt.xscale('log')\n",
        "plt.axis([0.5, 800, 0.001, 0.3])\n",
        "plt.gca().legend(('eta = 10','eta = 1','eta = 0.1'),loc='lower left')\n",
        "plt.show()"
      ],
      "execution_count": 0,
      "outputs": [
        {
          "output_type": "display_data",
          "data": {
            "image/png": "[encoded data removed]",
            "text/plain": [
              "<Figure size 432x288 with 1 Axes>"
            ]
          },
          "metadata": {
            "tags": []
          }
        }
      ]
    },
    {
      "cell_type": "code",
      "metadata": {
        "id": "cKdPrwUV4plI",
        "colab_type": "code",
        "outputId": "93eb9691-a38d-4ce3-c6b8-ff168b8e90f0",
        "colab": {
          "base_uri": "https://localhost:8080/",
          "height": 287
        }
      },
      "source": [
        "plt.plot(times1tot,costs1, 'r')\n",
        "plt.plot(times2tot,costs2, 'b')\n",
        "plt.plot(times3tot,costs3, 'g')\n",
        "#plt.plot(times4tot,costs4, 'g')     #CHANGE    CHANGE\n",
        "plt.ylabel('Cost')\n",
        "plt.xlabel('Time (s)')\n",
        "plt.yscale('log')\n",
        "plt.xscale('log')\n",
        "plt.axis([0.5, 200, 0.01, 0.3])\n",
        "plt.gca().legend(('run1','run2','run2'),loc='lower left')\n",
        "plt.show()"
      ],
      "execution_count": 0,
      "outputs": [
        {
          "output_type": "display_data",
          "data": {
            "image/png": "[encoded data removed]",
            "text/plain": [
              "<Figure size 432x288 with 1 Axes>"
            ]
          },
          "metadata": {
            "tags": []
          }
        }
      ]
    },
    {
      "cell_type": "code",
      "metadata": {
        "id": "YhIcBExuAmMU",
        "colab_type": "code",
        "colab": {}
      },
      "source": [
        ""
      ],
      "execution_count": 0,
      "outputs": []
    },
    {
      "cell_type": "code",
      "metadata": {
        "id": "ZjrQOpeQYF0H",
        "colab_type": "code",
        "colab": {}
      },
      "source": [
        "#finally we plot the training function and the neural net output to compare\n",
        "y_out_corr = myFunc2(y_in)\n",
        "print(shape(y_out_corr))\n",
        "y_2Dc=reshape(y_out_corr[:],[M,M])\n",
        "plt.figure(figsize=[7,7])\n",
        "plt.imshow(y_2Dc,origin='lower')\n",
        "plt.show()\n",
        "\n",
        "y_out1 = simples.Apply_net(y_in)\n",
        "y_2Dn=reshape(y_out1[:,0],[M,M])\n",
        "plt.figure(figsize=[7,7])\n",
        "plt.imshow(y_2Dn,origin='lower')\n",
        "plt.show()"
      ],
      "execution_count": 0,
      "outputs": []
    },
    {
      "cell_type": "code",
      "metadata": {
        "id": "E6SMBlqjusP8",
        "colab_type": "code",
        "outputId": "2de878e0-e7f2-4a70-f363-467230553328",
        "colab": {
          "base_uri": "https://localhost:8080/",
          "height": 34
        }
      },
      "source": [
        "import time\n",
        "time.time()\n",
        "time.clock()\n"
      ],
      "execution_count": 0,
      "outputs": [
        {
          "output_type": "execute_result",
          "data": {
            "text/plain": [
              "2.366227"
            ]
          },
          "metadata": {
            "tags": []
          },
          "execution_count": 27
        }
      ]
    },
    {
      "cell_type": "code",
      "metadata": {
        "id": "Gc6c9kc8uuzJ",
        "colab_type": "code",
        "colab": {}
      },
      "source": [
        ""
      ],
      "execution_count": 0,
      "outputs": []
    }
  ]
}